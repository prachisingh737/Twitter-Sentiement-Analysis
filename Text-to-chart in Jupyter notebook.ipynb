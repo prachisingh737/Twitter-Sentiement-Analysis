{
 "cells": [
  {
   "cell_type": "markdown",
   "metadata": {},
   "source": [
    "### Installing required libraries\n",
    "\n",
    "The following required libraries are __not__ preinstalled in the Skills Network Labs environment. __You must run the following cell__ to install them:\n",
    "\n",
    "**Note:** We are pinning the version here to specify the version. It's recommended that you do this as well. Even if the library is updated in the future, the installed library could still support this lab work.\n",
    "\n",
    "This might take approximately 1-2 minutes. \n",
    "\n",
    "As we use `%%capture` to capture the installation, you won't see the output process. But after the installation completes, you will see a number beside the cell.\n"
   ]
  },
  {
   "cell_type": "code",
   "execution_count": 5,
   "metadata": {},
   "outputs": [],
   "source": [
    "%%capture\n",
    "!pip install ibm-watsonx-ai==\"0.2.6\"\n",
    "!pip install --user langchain==\"0.1.16\" \n",
    "!pip install --user langchain-ibm==\"0.1.4\"\n",
    "!pip install --user langchain-experimental==\"0.0.57\"\n",
    "!pip install matplotlib==\"3.8.4\"\n",
    "!pip install seaborn==\"0.13.2\""
   ]
  },
  {
   "cell_type": "markdown",
   "metadata": {},
   "source": [
    "### Importing required libraries\n",
    "\n",
    "_We recommend you import all required libraries in one place (here):_\n"
   ]
  },
  {
   "cell_type": "code",
   "execution_count": null,
   "metadata": {},
   "outputs": [],
   "source": [
    "def warn(*args, **kwargs):\n",
    "    pass\n",
    "import warnings\n",
    "warnings.warn = warn\n",
    "warnings.filterwarnings('ignore')\n",
    "\n",
    "from ibm_watsonx_ai.foundation_models import Model\n",
    "from ibm_watsonx_ai.metanames import GenTextParamsMetaNames as GenParams\n",
    "from ibm_watson_machine_learning.foundation_models.extensions.langchain import WatsonxLLM\n",
    "\n",
    "from langchain_experimental.agents.agent_toolkits import create_pandas_dataframe_agent\n",
    "\n",
    "import matplotlib.pyplot as plt\n",
    "import pandas as pd"
   ]
  },
  {
   "cell_type": "markdown",
   "metadata": {},
   "source": [
    "The data set we are using is for the mathematics course. The number of mathematics students involved in the collection was 395. The data collected in locations such as Gabriel Pereira and Mousinho da Silveira includes several pertinence values. Examples of such data are records of demographic information, grades, and alcohol consumption.\n"
   ]
  },
  {
   "cell_type": "markdown",
   "metadata": {},
   "source": [
    "| Field     | Description                                                                 |\n",
    "|-----------|-----------------------------------------------------------------------------|\n",
    "| school    | GP/MS for the student's school                                              |\n",
    "| sex       | M/F for gender                                                              |\n",
    "| age       | 15-22 for the student's age                                                 |\n",
    "| address   | U/R for urban or rural, respectively                                        |\n",
    "| famsize   | LE3/GT3 for less than or greater than three family members                  |\n",
    "| Pstatus   | T/A for living together or apart from parents, respectively                 |\n",
    "| Medu      | 0 (none) / 1 (primary-4th grade) / 2 (5th - 9th grade) / 3 (secondary) / 4 (higher) for mother's education |\n",
    "| Fedu      | 0 (none) / 1 (primary-4th grade) / 2 (5th - 9th grade) / 3 (secondary) / 4 (higher) for father's education |\n",
    "| Mjob      | 'teacher,' 'health' care related, civil 'services,' 'at_home' or 'other' for the student's mother's job |\n",
    "| Fjob      | 'teacher,' 'health' care related, civil 'services,' 'at_home' or 'other' for the student's father's job |\n",
    "| reason    | reason to choose this school (nominal: close to 'home', school 'reputation', 'course' preference or 'other') |\n",
    "| guardian  | mother/father/other as the student's guardian                               |\n",
    "| traveltime| 1 (<15mins) / 2 (15 - 30 mins) / 3 (30 mins - 1 hr) / 4 (>1hr) for a time from home to school |\n",
    "| studytime | 1 (<2hrs) / 2 (2 - 5hrs) / 3 (5 - 10hrs) / 4 (>10hrs) for weekly study time |\n",
    "| failures  | 1-3/4 for the number of class failures (if more than three, then record 4)  |\n",
    "| schoolsup | yes/no for extra educational support                                        |\n",
    "| famsup    | yes/no for family educational support                                       |\n",
    "| paid      | yes/no for extra paid classes for Math or Portuguese                        |\n",
    "| activities| yes/no for extra-curricular activities                                      |\n",
    "| nursery   | yes/no for whether attended nursery school                                  |\n",
    "| higher    | yes/no for the desire to continue studies                                   |\n",
    "| internet  | yes/no for internet access at home                                          |\n",
    "| romantic  | yes/no for relationship status                                              |\n",
    "| famrel    | 1-5 scale on quality of family relationships                                |\n",
    "| freetime  | 1-5 scale on how much free time after school             |\n",
    "| goout     | 1-5 scale on how much student goes out with friends      |\n",
    "| Dalc      | 1-5 scale on how much alcohol consumed on weekdays       |\n",
    "| Walc      | 1-5 scale on how much alcohol consumed on the weekend    |\n",
    "| health    | 1-5 scale on health condition                            |\n",
    "| absences  | 0-93 number of absences from school                      |\n",
    "| G1        | 0-20 for the first-period grade                          |\n",
    "| G2        | 0-20 for the second-period grade                         |\n",
    "| G3        | 0-20 for the final grade                                 |\n"
   ]
  },
  {
   "cell_type": "markdown",
   "metadata": {},
   "source": [
    "### Load the data set\n"
   ]
  },
  {
   "cell_type": "markdown",
   "metadata": {},
   "source": [
    "Execute the code in the following cell to load your dataset. This code reads the CSV file into a pandas DataFrame, making the data accessible for processing in Python.\n"
   ]
  },
  {
   "cell_type": "code",
   "execution_count": 2,
   "metadata": {},
   "outputs": [],
   "source": [
    "df = pd.read_csv(\n",
    "    \"https://cf-courses-data.s3.us.cloud-object-storage.appdomain.cloud/ZNoKMJ9rssJn-QbJ49kOzA/student-mat.csv\"\n",
    ")"
   ]
  },
  {
   "cell_type": "markdown",
   "metadata": {},
   "source": [
    "Let's examine the first five rows of the dataset to get a glimpse of the data structure and its contents.\n"
   ]
  },
  {
   "cell_type": "code",
   "execution_count": 3,
   "metadata": {},
   "outputs": [
    {
     "data": {
      "text/html": [
       "<div>\n",
       "<style scoped>\n",
       "    .dataframe tbody tr th:only-of-type {\n",
       "        vertical-align: middle;\n",
       "    }\n",
       "\n",
       "    .dataframe tbody tr th {\n",
       "        vertical-align: top;\n",
       "    }\n",
       "\n",
       "    .dataframe thead th {\n",
       "        text-align: right;\n",
       "    }\n",
       "</style>\n",
       "<table border=\"1\" class=\"dataframe\">\n",
       "  <thead>\n",
       "    <tr style=\"text-align: right;\">\n",
       "      <th></th>\n",
       "      <th>school</th>\n",
       "      <th>sex</th>\n",
       "      <th>age</th>\n",
       "      <th>address</th>\n",
       "      <th>famsize</th>\n",
       "      <th>Pstatus</th>\n",
       "      <th>Medu</th>\n",
       "      <th>Fedu</th>\n",
       "      <th>Mjob</th>\n",
       "      <th>Fjob</th>\n",
       "      <th>...</th>\n",
       "      <th>famrel</th>\n",
       "      <th>freetime</th>\n",
       "      <th>goout</th>\n",
       "      <th>Dalc</th>\n",
       "      <th>Walc</th>\n",
       "      <th>health</th>\n",
       "      <th>absences</th>\n",
       "      <th>G1</th>\n",
       "      <th>G2</th>\n",
       "      <th>G3</th>\n",
       "    </tr>\n",
       "  </thead>\n",
       "  <tbody>\n",
       "    <tr>\n",
       "      <th>0</th>\n",
       "      <td>GP</td>\n",
       "      <td>F</td>\n",
       "      <td>18</td>\n",
       "      <td>U</td>\n",
       "      <td>GT3</td>\n",
       "      <td>A</td>\n",
       "      <td>4</td>\n",
       "      <td>4</td>\n",
       "      <td>at_home</td>\n",
       "      <td>teacher</td>\n",
       "      <td>...</td>\n",
       "      <td>4</td>\n",
       "      <td>3</td>\n",
       "      <td>4</td>\n",
       "      <td>1</td>\n",
       "      <td>1</td>\n",
       "      <td>3</td>\n",
       "      <td>6</td>\n",
       "      <td>5</td>\n",
       "      <td>6</td>\n",
       "      <td>6</td>\n",
       "    </tr>\n",
       "    <tr>\n",
       "      <th>1</th>\n",
       "      <td>GP</td>\n",
       "      <td>F</td>\n",
       "      <td>17</td>\n",
       "      <td>U</td>\n",
       "      <td>GT3</td>\n",
       "      <td>T</td>\n",
       "      <td>1</td>\n",
       "      <td>1</td>\n",
       "      <td>at_home</td>\n",
       "      <td>other</td>\n",
       "      <td>...</td>\n",
       "      <td>5</td>\n",
       "      <td>3</td>\n",
       "      <td>3</td>\n",
       "      <td>1</td>\n",
       "      <td>1</td>\n",
       "      <td>3</td>\n",
       "      <td>4</td>\n",
       "      <td>5</td>\n",
       "      <td>5</td>\n",
       "      <td>6</td>\n",
       "    </tr>\n",
       "    <tr>\n",
       "      <th>2</th>\n",
       "      <td>GP</td>\n",
       "      <td>F</td>\n",
       "      <td>15</td>\n",
       "      <td>U</td>\n",
       "      <td>LE3</td>\n",
       "      <td>T</td>\n",
       "      <td>1</td>\n",
       "      <td>1</td>\n",
       "      <td>at_home</td>\n",
       "      <td>other</td>\n",
       "      <td>...</td>\n",
       "      <td>4</td>\n",
       "      <td>3</td>\n",
       "      <td>2</td>\n",
       "      <td>2</td>\n",
       "      <td>3</td>\n",
       "      <td>3</td>\n",
       "      <td>10</td>\n",
       "      <td>7</td>\n",
       "      <td>8</td>\n",
       "      <td>10</td>\n",
       "    </tr>\n",
       "    <tr>\n",
       "      <th>3</th>\n",
       "      <td>GP</td>\n",
       "      <td>F</td>\n",
       "      <td>15</td>\n",
       "      <td>U</td>\n",
       "      <td>GT3</td>\n",
       "      <td>T</td>\n",
       "      <td>4</td>\n",
       "      <td>2</td>\n",
       "      <td>health</td>\n",
       "      <td>services</td>\n",
       "      <td>...</td>\n",
       "      <td>3</td>\n",
       "      <td>2</td>\n",
       "      <td>2</td>\n",
       "      <td>1</td>\n",
       "      <td>1</td>\n",
       "      <td>5</td>\n",
       "      <td>2</td>\n",
       "      <td>15</td>\n",
       "      <td>14</td>\n",
       "      <td>15</td>\n",
       "    </tr>\n",
       "    <tr>\n",
       "      <th>4</th>\n",
       "      <td>GP</td>\n",
       "      <td>F</td>\n",
       "      <td>16</td>\n",
       "      <td>U</td>\n",
       "      <td>GT3</td>\n",
       "      <td>T</td>\n",
       "      <td>3</td>\n",
       "      <td>3</td>\n",
       "      <td>other</td>\n",
       "      <td>other</td>\n",
       "      <td>...</td>\n",
       "      <td>4</td>\n",
       "      <td>3</td>\n",
       "      <td>2</td>\n",
       "      <td>1</td>\n",
       "      <td>2</td>\n",
       "      <td>5</td>\n",
       "      <td>4</td>\n",
       "      <td>6</td>\n",
       "      <td>10</td>\n",
       "      <td>10</td>\n",
       "    </tr>\n",
       "  </tbody>\n",
       "</table>\n",
       "<p>5 rows × 33 columns</p>\n",
       "</div>"
      ],
      "text/plain": [
       "  school sex  age address famsize Pstatus  Medu  Fedu     Mjob      Fjob  ...  \\\n",
       "0     GP   F   18       U     GT3       A     4     4  at_home   teacher  ...   \n",
       "1     GP   F   17       U     GT3       T     1     1  at_home     other  ...   \n",
       "2     GP   F   15       U     LE3       T     1     1  at_home     other  ...   \n",
       "3     GP   F   15       U     GT3       T     4     2   health  services  ...   \n",
       "4     GP   F   16       U     GT3       T     3     3    other     other  ...   \n",
       "\n",
       "  famrel freetime  goout  Dalc  Walc health absences  G1  G2  G3  \n",
       "0      4        3      4     1     1      3        6   5   6   6  \n",
       "1      5        3      3     1     1      3        4   5   5   6  \n",
       "2      4        3      2     2     3      3       10   7   8  10  \n",
       "3      3        2      2     1     1      5        2  15  14  15  \n",
       "4      4        3      2     1     2      5        4   6  10  10  \n",
       "\n",
       "[5 rows x 33 columns]"
      ]
     },
     "execution_count": 3,
     "metadata": {},
     "output_type": "execute_result"
    }
   ],
   "source": [
    "df.head(5)"
   ]
  },
  {
   "cell_type": "markdown",
   "metadata": {},
   "source": [
    "We can also review the detailed information for each column in the dataset, focusing on the presence of null values and the specific data types of each column.\n"
   ]
  },
  {
   "cell_type": "code",
   "execution_count": 4,
   "metadata": {},
   "outputs": [
    {
     "name": "stdout",
     "output_type": "stream",
     "text": [
      "<class 'pandas.core.frame.DataFrame'>\n",
      "RangeIndex: 395 entries, 0 to 394\n",
      "Data columns (total 33 columns):\n",
      " #   Column      Non-Null Count  Dtype \n",
      "---  ------      --------------  ----- \n",
      " 0   school      395 non-null    object\n",
      " 1   sex         395 non-null    object\n",
      " 2   age         395 non-null    int64 \n",
      " 3   address     395 non-null    object\n",
      " 4   famsize     395 non-null    object\n",
      " 5   Pstatus     395 non-null    object\n",
      " 6   Medu        395 non-null    int64 \n",
      " 7   Fedu        395 non-null    int64 \n",
      " 8   Mjob        395 non-null    object\n",
      " 9   Fjob        395 non-null    object\n",
      " 10  reason      395 non-null    object\n",
      " 11  guardian    395 non-null    object\n",
      " 12  traveltime  395 non-null    int64 \n",
      " 13  studytime   395 non-null    int64 \n",
      " 14  failures    395 non-null    int64 \n",
      " 15  schoolsup   395 non-null    object\n",
      " 16  famsup      395 non-null    object\n",
      " 17  paid        395 non-null    object\n",
      " 18  activities  395 non-null    object\n",
      " 19  nursery     395 non-null    object\n",
      " 20  higher      395 non-null    object\n",
      " 21  internet    395 non-null    object\n",
      " 22  romantic    395 non-null    object\n",
      " 23  famrel      395 non-null    int64 \n",
      " 24  freetime    395 non-null    int64 \n",
      " 25  goout       395 non-null    int64 \n",
      " 26  Dalc        395 non-null    int64 \n",
      " 27  Walc        395 non-null    int64 \n",
      " 28  health      395 non-null    int64 \n",
      " 29  absences    395 non-null    int64 \n",
      " 30  G1          395 non-null    int64 \n",
      " 31  G2          395 non-null    int64 \n",
      " 32  G3          395 non-null    int64 \n",
      "dtypes: int64(16), object(17)\n",
      "memory usage: 102.0+ KB\n"
     ]
    }
   ],
   "source": [
    "df.info()"
   ]
  },
  {
   "cell_type": "markdown",
   "metadata": {},
   "source": [
    "## Load LLM\n"
   ]
  },
  {
   "cell_type": "markdown",
   "metadata": {},
   "source": [
    "Execute the code in the cell below to load the llama-3-3-70b LLM model from watsonx.ai. \n",
    "\n",
    "Additionally, we will configure the LLM to interact with data by integrating it with Langchain's `create_pandas_dataframe_agent`.\n"
   ]
  },
  {
   "cell_type": "code",
   "execution_count": 5,
   "metadata": {},
   "outputs": [],
   "source": [
    "# Create a dictionary to store credential information\n",
    "credentials = {\n",
    "    \"url\"    : \"https://us-south.ml.cloud.ibm.com\"\n",
    "}\n",
    "\n",
    "# Indicate the model we would like to initialize. In this case, Llama 3 70B.\n",
    "model_id    = 'meta-llama/llama-3-3-70b-instruct'\n",
    "\n",
    "# Initialize some watsonx.ai model parameters\n",
    "params = {\n",
    "        GenParams.MAX_NEW_TOKENS: 256, # The maximum number of tokens that the model can generate in a single run.\n",
    "        GenParams.TEMPERATURE: 0,   # A parameter that controls the randomness of the token generation. A lower value makes the generation more deterministic, while a higher value introduces more randomness.\n",
    "    }\n",
    "project_id  = \"skills-network\" # <--- NOTE: specify \"skills-network\" as your project_id\n",
    "space_id    = None\n",
    "verify      = False\n",
    "\n",
    "# Launch a watsonx.ai model\n",
    "model = Model(\n",
    "    model_id=model_id, \n",
    "    credentials=credentials, \n",
    "    params=params, \n",
    "    project_id=project_id, \n",
    "    space_id=space_id, \n",
    "    verify=verify\n",
    ")\n",
    "\n",
    "# Integrate the watsonx.ai model with the langchain framework\n",
    "llm = WatsonxLLM(model = model)\n",
    "\n",
    "agent = create_pandas_dataframe_agent(\n",
    "    llm,\n",
    "    df,\n",
    "    verbose=False,\n",
    "    return_intermediate_steps=True  # set return_intermediate_steps=True so that model could return code that it comes up with to generate the chart\n",
    ")"
   ]
  },
  {
   "cell_type": "markdown",
   "metadata": {},
   "source": [
    "### Interact with your data\n"
   ]
  },
  {
   "cell_type": "markdown",
   "metadata": {},
   "source": [
    "Let's start with a simple interaction.\n",
    "\n",
    "Ask LLM how many rows of data are in the CSV file.\n"
   ]
  },
  {
   "cell_type": "code",
   "execution_count": 19,
   "metadata": {},
   "outputs": [],
   "source": [
    "response = agent.invoke(\"how many rows of data are in this file?\")"
   ]
  },
  {
   "cell_type": "code",
   "execution_count": 20,
   "metadata": {},
   "outputs": [
    {
     "data": {
      "text/plain": [
       "'There are 395 rows of data in this file.'"
      ]
     },
     "execution_count": 20,
     "metadata": {},
     "output_type": "execute_result"
    }
   ],
   "source": [
    "response['output']"
   ]
  },
  {
   "cell_type": "markdown",
   "metadata": {},
   "source": [
    "From the output above, the model reports that there are 395 rows of data in the file.\n"
   ]
  },
  {
   "cell_type": "markdown",
   "metadata": {},
   "source": [
    "Let's verify this count using Python code to ensure accuracy.\n"
   ]
  },
  {
   "cell_type": "code",
   "execution_count": 8,
   "metadata": {},
   "outputs": [
    {
     "data": {
      "text/plain": [
       "395"
      ]
     },
     "execution_count": 8,
     "metadata": {},
     "output_type": "execute_result"
    }
   ],
   "source": [
    "len(df)"
   ]
  },
  {
   "cell_type": "markdown",
   "metadata": {},
   "source": [
    "The row count matches and is correct! \n"
   ]
  },
  {
   "cell_type": "markdown",
   "metadata": {},
   "source": [
    "Curious about the code the LLM generated and used to create this result?\n",
    "\n",
    "Run the code in the cell below to reveal the underlying commands.\n"
   ]
  },
  {
   "cell_type": "code",
   "execution_count": 9,
   "metadata": {},
   "outputs": [
    {
     "data": {
      "text/plain": [
       "'len(df)'"
      ]
     },
     "execution_count": 9,
     "metadata": {},
     "output_type": "execute_result"
    }
   ],
   "source": [
    "response['intermediate_steps'][-1][0].tool_input.replace('; ', '\\n')"
   ]
  },
  {
   "cell_type": "markdown",
   "metadata": {},
   "source": [
    "Surprisingly, the LLM uses the same code as we do.\n"
   ]
  },
  {
   "cell_type": "markdown",
   "metadata": {},
   "source": [
    "Also, we could let LLM return some data that we are looking for based on the CSV file.\n"
   ]
  },
  {
   "cell_type": "code",
   "execution_count": 10,
   "metadata": {},
   "outputs": [],
   "source": [
    "response = agent.invoke(\"Give me all the data where student's age is over 18 years old.\")"
   ]
  },
  {
   "cell_type": "code",
   "execution_count": 12,
   "metadata": {},
   "outputs": [
    {
     "name": "stdout",
     "output_type": "stream",
     "text": [
      "{'input': \"Give me all the data where student's age is over 18 years old.\", 'output': \"The data where the student's age is over 18 years old is as follows:\\n     school sex  age address famsize Pstatus  Medu  Fedu      Mjob      Fjob  \\\\\\n127     GP   F   19       U     GT3       T     0     1   at_home     other   \\n153     GP   M   19       U     GT3       T     3     2  services   at_home   \\n210     GP   F   19       U     GT3       T     3     3     other     other   \\n247     GP   M   22       U     GT3       T     3     1  services  services   \\n257     GP   M   19       U     LE3       A     4     3  services   at_home   \\n270     GP   F   19       U     GT3       T     3     3     other  services   \\n296     GP   F   19       U     GT3       T     4     4    health     other   \\n304     GP   M   19       U     GT3       T     3\", 'intermediate_steps': [(AgentAction(tool='python_repl_ast', tool_input=\"df[df['age'] > 18]\", log=\"Thought: To get the data where the student's age is over 18 years old, I need to filter the dataframe based on the 'age' column. I can use the pandas dataframe's filtering functionality to achieve this.\\nAction: python_repl_ast\\nAction Input: df[df['age'] > 18]\"),     school sex  age address famsize Pstatus  Medu  Fedu      Mjob      Fjob  \\\n",
      "127     GP   F   19       U     GT3       T     0     1   at_home     other   \n",
      "153     GP   M   19       U     GT3       T     3     2  services   at_home   \n",
      "210     GP   F   19       U     GT3       T     3     3     other     other   \n",
      "247     GP   M   22       U     GT3       T     3     1  services  services   \n",
      "257     GP   M   19       U     LE3       A     4     3  services   at_home   \n",
      "270     GP   F   19       U     GT3       T     3     3     other  services   \n",
      "296     GP   F   19       U     GT3       T     4     4    health     other   \n",
      "304     GP   M   19       U     GT3       T     3     3     other     other   \n",
      "306     GP   M   20       U     GT3       A     3     2  services     other   \n",
      "307     GP   M   19       U     GT3       T     4     4   teacher  services   \n",
      "308     GP   M   19       R     GT3       T     3     3     other  services   \n",
      "309     GP   F   19       U     LE3       T     1     1   at_home     other   \n",
      "310     GP   F   19       U     LE3       T     1     2  services  services   \n",
      "311     GP   F   19       U     GT3       T     2     1   at_home     other   \n",
      "312     GP   M   19       U     GT3       T     1     2     other  services   \n",
      "313     GP   F   19       U     LE3       T     3     2  services     other   \n",
      "314     GP   F   19       U     GT3       T     1     1   at_home    health   \n",
      "315     GP   F   19       R     GT3       T     2     3     other     other   \n",
      "336     GP   F   19       R     GT3       A     3     1  services   at_home   \n",
      "340     GP   F   19       U     GT3       T     2     1  services  services   \n",
      "350     MS   M   19       R     GT3       T     1     1     other  services   \n",
      "353     MS   M   19       R     GT3       T     1     1     other     other   \n",
      "370     MS   F   19       U     LE3       T     3     2  services  services   \n",
      "376     MS   F   20       U     GT3       T     4     2    health     other   \n",
      "383     MS   M   19       R     GT3       T     1     1     other  services   \n",
      "387     MS   F   19       R     GT3       T     2     3  services     other   \n",
      "390     MS   M   20       U     LE3       A     2     2  services  services   \n",
      "392     MS   M   21       R     GT3       T     1     1     other     other   \n",
      "394     MS   M   19       U     LE3       T     1     1     other   at_home   \n",
      "\n",
      "         reason guardian  traveltime  studytime  failures schoolsup famsup  \\\n",
      "127      course    other           1          2         3        no    yes   \n",
      "153        home   mother           1          1         3        no    yes   \n",
      "210  reputation    other           1          4         0        no    yes   \n",
      "247       other   mother           1          1         3        no     no   \n",
      "257  reputation   mother           1          2         0        no    yes   \n",
      "270        home    other           1          2         2        no    yes   \n",
      "296  reputation    other           2          2         0        no    yes   \n",
      "304        home    other           1          2         1        no    yes   \n",
      "306      course    other           1          1         0        no     no   \n",
      "307  reputation    other           2          1         1        no    yes   \n",
      "308  reputation   father           1          2         1        no     no   \n",
      "309  reputation    other           1          2         1       yes    yes   \n",
      "310        home    other           1          2         1        no     no   \n",
      "311       other    other           3          2         0        no    yes   \n",
      "312      course    other           1          2         1        no     no   \n",
      "313  reputation    other           2          2         1        no    yes   \n",
      "314        home    other           1          3         2        no     no   \n",
      "315  reputation    other           1          3         1        no     no   \n",
      "336        home    other           1          3         1        no     no   \n",
      "340        home    other           1          3         1        no     no   \n",
      "350        home    other           3          2         3        no     no   \n",
      "353        home    other           3          1         1        no    yes   \n",
      "370        home    other           2          2         2        no     no   \n",
      "376      course    other           2          3         2        no    yes   \n",
      "383       other   mother           2          1         1        no     no   \n",
      "387      course   mother           1          3         1        no     no   \n",
      "390      course    other           1          2         2        no    yes   \n",
      "392      course    other           1          1         3        no     no   \n",
      "394      course   father           1          1         0        no     no   \n",
      "\n",
      "    paid activities nursery higher internet romantic  famrel  freetime  goout  \\\n",
      "127   no         no      no     no       no       no       3         4      2   \n",
      "153   no         no     yes     no      yes      yes       4         5      4   \n",
      "210  yes        yes     yes    yes      yes       no       4         3      3   \n",
      "247   no         no      no     no      yes      yes       5         4      5   \n",
      "257   no         no     yes    yes      yes       no       4         3      1   \n",
      "270  yes        yes     yes    yes      yes       no       4         3      5   \n",
      "296  yes        yes     yes    yes      yes       no       2         3      4   \n",
      "304   no        yes     yes    yes      yes      yes       4         4      4   \n",
      "306   no        yes     yes    yes       no       no       5         5      3   \n",
      "307  yes         no     yes    yes      yes      yes       4         3      4   \n",
      "308   no        yes     yes    yes       no      yes       4         5      3   \n",
      "309   no        yes      no    yes      yes       no       4         4      3   \n",
      "310   no        yes      no    yes       no      yes       4         2      4   \n",
      "311   no         no     yes     no      yes      yes       3         4      1   \n",
      "312   no         no      no    yes      yes       no       4         5      2   \n",
      "313  yes         no      no    yes      yes      yes       4         2      2   \n",
      "314   no         no      no    yes      yes      yes       4         1      2   \n",
      "315   no         no     yes    yes      yes      yes       4         1      2   \n",
      "336  yes         no     yes    yes       no       no       5         4      3   \n",
      "340  yes        yes     yes    yes      yes      yes       4         3      4   \n",
      "350   no         no     yes    yes      yes       no       5         4      4   \n",
      "353   no         no     yes    yes      yes       no       4         4      4   \n",
      "370   no        yes     yes    yes       no      yes       3         2      2   \n",
      "376  yes         no      no    yes      yes      yes       5         4      3   \n",
      "383   no         no     yes    yes       no       no       4         3      2   \n",
      "387   no        yes      no    yes      yes       no       5         4      2   \n",
      "390  yes         no     yes    yes       no       no       5         5      4   \n",
      "392   no         no      no    yes       no       no       5         5      3   \n",
      "394   no         no     yes    yes      yes       no       3         2      3   \n",
      "\n",
      "     Dalc  Walc  health  absences  G1  G2  G3  \n",
      "127     1     1       5         2   7   8   9  \n",
      "153     1     1       4         0   5   0   0  \n",
      "210     1     2       3        10   8   8   8  \n",
      "247     5     5       1        16   6   8   8  \n",
      "257     1     1       1        12  11  11  11  \n",
      "270     3     3       5        15   9   9   9  \n",
      "296     2     3       2         0  10   9   0  \n",
      "304     1     1       3        20  15  14  13  \n",
      "306     1     1       5         0  17  18  18  \n",
      "307     1     1       4        38   8   9   8  \n",
      "308     1     2       5         0  15  12  12  \n",
      "309     1     3       3        18  12  10  10  \n",
      "310     2     2       3         0   9   9   0  \n",
      "311     1     1       2        20  14  12  13  \n",
      "312     2     2       4         3  13  11  11  \n",
      "313     1     2       1        22  13  10  11  \n",
      "314     1     1       3        14  15  13  13  \n",
      "315     1     1       3        40  13  11  11  \n",
      "336     1     2       5        12  14  13  13  \n",
      "340     1     3       3         4  11  12  11  \n",
      "350     3     3       2         8   8   7   8  \n",
      "353     3     3       5         4   8   8   8  \n",
      "370     1     1       3         4   7   7   9  \n",
      "376     1     1       3         4  15  14  15  \n",
      "383     1     3       5         0   6   5   0  \n",
      "387     1     2       5         0   7   5   0  \n",
      "390     4     5       4        11   9   9   9  \n",
      "392     3     3       3         3  10   8   7  \n",
      "394     3     3       5         5   8   9   9  )]}\n"
     ]
    }
   ],
   "source": [
    "print(response)"
   ]
  },
  {
   "cell_type": "markdown",
   "metadata": {},
   "source": [
    "Let's get the code LLM used for charting this plot.\n"
   ]
  },
  {
   "cell_type": "code",
   "execution_count": 13,
   "metadata": {},
   "outputs": [
    {
     "data": {
      "text/plain": [
       "\"df[df['age'] > 18]\""
      ]
     },
     "execution_count": 13,
     "metadata": {},
     "output_type": "execute_result"
    }
   ],
   "source": [
    "response['intermediate_steps'][-1][0].tool_input.replace('; ', '\\n')"
   ]
  },
  {
   "cell_type": "markdown",
   "metadata": {},
   "source": [
    "### Plot your data with natural language\n"
   ]
  },
  {
   "cell_type": "markdown",
   "metadata": {},
   "source": [
    "#### Task 1\n",
    "Generating a first visual on the data set to know the total number of male and female students in the data set.\n",
    "\n",
    "We just tell the agent that \"Plot the gender count with bars.\"\n"
   ]
  },
  {
   "cell_type": "code",
   "execution_count": 14,
   "metadata": {},
   "outputs": [
    {
     "data": {
      "image/png": "[encoded data removed]",
      "text/plain": [
       "<Figure size 1000x600 with 1 Axes>"
      ]
     },
     "metadata": {},
     "output_type": "display_data"
    }
   ],
   "source": [
    "response = agent.invoke(\"Plot the gender count with bars.\")"
   ]
  },
  {
   "cell_type": "markdown",
   "metadata": {},
   "source": [
    "Let's see what code the LLM generated for ploting this chart.\n"
   ]
  },
  {
   "cell_type": "code",
   "execution_count": 15,
   "metadata": {},
   "outputs": [
    {
     "name": "stdout",
     "output_type": "stream",
     "text": [
      "```python\n",
      "import matplotlib.pyplot as plt\n",
      "gender_counts = df['sex'].value_counts()\n",
      "plt.figure(figsize=(10,6))\n",
      "plt.bar(gender_counts.index, gender_counts.values)\n",
      "plt.xlabel('Sex')\n",
      "plt.ylabel('Count')\n",
      "plt.title('Gender Count')\n",
      "plt.show()\n",
      "```\n"
     ]
    }
   ],
   "source": [
    "print(response['intermediate_steps'][-1][0].tool_input.replace('; ', '\\n'))"
   ]
  },
  {
   "cell_type": "markdown",
   "metadata": {},
   "source": [
    "#### Task 2\n",
    "\n",
    "Generating a pie chart for displaying the average value of weekend alcohol for each gender in the data set.\n",
    "\n",
    "We will use the prompt \"Generate a pie chart to display average value of Walc for each gender.\"\n",
    "\n",
    "You may notice that the model generates two charts. The charts actually indicate the progressive improvement of the agent's code as it searches for the best way to answer to our prompt. It presents an improvement in the response to our query.\n"
   ]
  },
  {
   "cell_type": "code",
   "execution_count": 16,
   "metadata": {},
   "outputs": [
    {
     "data": {
      "image/png": "[encoded data removed]",
      "text/plain": [
       "<Figure size 1000x600 with 1 Axes>"
      ]
     },
     "metadata": {},
     "output_type": "display_data"
    }
   ],
   "source": [
    "response = agent.invoke(\"Generate a pie chart to display average value of Walc for each Gender.\")"
   ]
  },
  {
   "cell_type": "markdown",
   "metadata": {},
   "source": [
    "Let's get the code LLM used for charting this plot.\n"
   ]
  },
  {
   "cell_type": "code",
   "execution_count": 17,
   "metadata": {},
   "outputs": [
    {
     "name": "stdout",
     "output_type": "stream",
     "text": [
      "```python\n",
      "import matplotlib.pyplot as plt\n",
      "\n",
      "# Group by 'sex' and calculate the mean of 'Walc'\n",
      "average_walc = df.groupby('sex')['Walc'].mean()\n",
      "\n",
      "# Create a pie chart\n",
      "plt.figure(figsize=(10,6))\n",
      "plt.pie(average_walc, labels = average_walc.index, autopct='%1.1f%%')\n",
      "plt.title('Average Walc by Gender')\n",
      "plt.show()\n",
      "```\n"
     ]
    }
   ],
   "source": [
    "print(response['intermediate_steps'][-1][0].tool_input.replace('; ', '\\n'))"
   ]
  },
  {
   "cell_type": "markdown",
   "metadata": {},
   "source": [
    "#### Task 3\n",
    "\n",
    "We can explore the impact of free time on grades based on the data.\n"
   ]
  },
  {
   "cell_type": "code",
   "execution_count": 18,
   "metadata": {},
   "outputs": [
    {
     "data": {
      "image/png": "[encoded data removed]",
      "text/plain": [
       "<Figure size 640x480 with 1 Axes>"
      ]
     },
     "metadata": {},
     "output_type": "display_data"
    },
    {
     "data": {
      "image/png": "[encoded data removed]",
      "text/plain": [
       "<Figure size 640x480 with 1 Axes>"
      ]
     },
     "metadata": {},
     "output_type": "display_data"
    },
    {
     "data": {
      "image/png": "[encoded data removed]",
      "text/plain": [
       "<Figure size 640x480 with 1 Axes>"
      ]
     },
     "metadata": {},
     "output_type": "display_data"
    }
   ],
   "source": [
    "response = agent.invoke(\"Create box plots to analyze the relationship between 'freetime' (amount of free time) and 'G3' (final grade) across different levels of free time.\")"
   ]
  },
  {
   "cell_type": "markdown",
   "metadata": {},
   "source": [
    "Execute the code below to retrieve the Python script the LLM used for plotting.\n"
   ]
  },
  {
   "cell_type": "code",
   "execution_count": 21,
   "metadata": {},
   "outputs": [
    {
     "name": "stdout",
     "output_type": "stream",
     "text": [
      "len(df)\n"
     ]
    }
   ],
   "source": [
    "print(response['intermediate_steps'][-1][0].tool_input.replace('; ', '\\n'))"
   ]
  },
  {
   "cell_type": "markdown",
   "metadata": {},
   "source": [
    "#### Task 4\n",
    "\n",
    "We can explore the effect of alcohol consumption on academic performance.\n"
   ]
  },
  {
   "cell_type": "code",
   "execution_count": 22,
   "metadata": {},
   "outputs": [
    {
     "data": {
      "image/png": "[encoded data removed]",
      "text/plain": [
       "<Figure size 1000x500 with 2 Axes>"
      ]
     },
     "metadata": {},
     "output_type": "display_data"
    }
   ],
   "source": [
    "response = agent.invoke(\"Generate scatter plots to examine the correlation between 'Dalc' (daily alcohol consumption) and 'G3', and between 'Walc' (weekend alcohol consumption) and 'G3'.\")"
   ]
  },
  {
   "cell_type": "markdown",
   "metadata": {},
   "source": [
    "Execute the code below to retrieve the Python script the LLM used for plotting.\n"
   ]
  },
  {
   "cell_type": "code",
   "execution_count": 23,
   "metadata": {},
   "outputs": [
    {
     "name": "stdout",
     "output_type": "stream",
     "text": [
      "```python\n",
      "import matplotlib.pyplot as plt\n",
      "import pandas as pd\n",
      "\n",
      "# Assuming df is the DataFrame\n",
      "plt.figure(figsize=(10,5))\n",
      "\n",
      "plt.subplot(1, 2, 1)\n",
      "plt.scatter(df['Dalc'], df['G3'])\n",
      "plt.title('Dalc vs G3')\n",
      "plt.xlabel('Dalc')\n",
      "plt.ylabel('G3')\n",
      "\n",
      "plt.subplot(1, 2, 2)\n",
      "plt.scatter(df['Walc'], df['G3'])\n",
      "plt.title('Walc vs G3')\n",
      "plt.xlabel('Walc')\n",
      "plt.ylabel('G3')\n",
      "\n",
      "plt.tight_layout()\n",
      "plt.show()\n",
      "```\n"
     ]
    }
   ],
   "source": [
    "print(response['intermediate_steps'][-1][0].tool_input.replace('; ', '\\n'))"
   ]
  }
 ],
 "metadata": {
  "kernelspec": {
   "display_name": "Python 3 (ipykernel)",
   "language": "python",
   "name": "python3"
  },
  "language_info": {
   "codemirror_mode": {
    "name": "ipython",
    "version": 3
   },
   "file_extension": ".py",
   "mimetype": "text/x-python",
   "name": "python",
   "nbconvert_exporter": "python",
   "pygments_lexer": "ipython3",
   "version": "3.12.8"
  },
  "prev_pub_hash": "7c78142eb11b38d02ea638bf3a1f3f8271af81505586b7acd1372482e887ebe1"
 },
 "nbformat": 4,
 "nbformat_minor": 4
}
